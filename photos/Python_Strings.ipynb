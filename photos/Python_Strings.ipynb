{
  "cells": [
    {
      "cell_type": "markdown",
      "metadata": {
        "id": "c2HW7BG0NlNF"
      },
      "source": [
        "# Multi-line Strings"
      ]
    },
    {
      "cell_type": "code",
      "execution_count": 1,
      "metadata": {
        "id": "W__3vyhsNVyH"
      },
      "outputs": [
        {
          "name": "stdout",
          "output_type": "stream",
          "text": [
            "I am a student of Sitare.\n",
            "I live in Lucknow.\n",
            "I am studying Python Programming.\n"
          ]
        }
      ],
      "source": [
        "mystr = '''I am a student of Sitare.\n",
        "I live in Lucknow.\n",
        "I am studying Python Programming.'''\n",
        "print(mystr)"
      ]
    },
    {
      "cell_type": "markdown",
      "metadata": {
        "id": "s3b5xw4rOEIy"
      },
      "source": [
        "# String Indices"
      ]
    },
    {
      "cell_type": "code",
      "execution_count": 2,
      "metadata": {
        "id": "CdCRtAPDNtuw"
      },
      "outputs": [
        {
          "name": "stdout",
          "output_type": "stream",
          "text": [
            "I   d\n"
          ]
        }
      ],
      "source": [
        "print(mystr[0],mystr[1],mystr[10])"
      ]
    },
    {
      "cell_type": "markdown",
      "metadata": {
        "id": "PBgAkN0kOfgk"
      },
      "source": [
        "# String Slicing"
      ]
    },
    {
      "cell_type": "code",
      "execution_count": 3,
      "metadata": {
        "id": "cfpQGi5eOg7-"
      },
      "outputs": [
        {
          "name": "stdout",
          "output_type": "stream",
          "text": [
            "am a\n"
          ]
        }
      ],
      "source": [
        "print(mystr[2:6])"
      ]
    },
    {
      "cell_type": "markdown",
      "metadata": {
        "id": "eHHg45NWOIoQ"
      },
      "source": [
        "# Looping through a String"
      ]
    },
    {
      "cell_type": "code",
      "execution_count": 4,
      "metadata": {
        "id": "44ZEq-ATNzyu"
      },
      "outputs": [
        {
          "name": "stdout",
          "output_type": "stream",
          "text": [
            "I\n",
            " \n",
            "a\n",
            "m\n",
            " \n",
            "a\n",
            " \n",
            "s\n",
            "t\n",
            "u\n",
            "d\n",
            "e\n",
            "n\n",
            "t\n",
            " \n",
            "o\n",
            "f\n",
            " \n",
            "S\n",
            "i\n",
            "t\n",
            "a\n",
            "r\n",
            "e\n",
            ".\n",
            "\n",
            "\n",
            "I\n",
            " \n",
            "l\n",
            "i\n",
            "v\n",
            "e\n",
            " \n",
            "i\n",
            "n\n",
            " \n",
            "L\n",
            "u\n",
            "c\n",
            "k\n",
            "n\n",
            "o\n",
            "w\n",
            ".\n",
            "\n",
            "\n",
            "I\n",
            " \n",
            "a\n",
            "m\n",
            " \n",
            "s\n",
            "t\n",
            "u\n",
            "d\n",
            "y\n",
            "i\n",
            "n\n",
            "g\n",
            " \n",
            "P\n",
            "y\n",
            "t\n",
            "h\n",
            "o\n",
            "n\n",
            " \n",
            "P\n",
            "r\n",
            "o\n",
            "g\n",
            "r\n",
            "a\n",
            "m\n",
            "m\n",
            "i\n",
            "n\n",
            "g\n",
            ".\n"
          ]
        }
      ],
      "source": [
        "for c in mystr:\n",
        "  print(c)"
      ]
    },
    {
      "cell_type": "markdown",
      "metadata": {
        "id": "YS7jmFD2OHXh"
      },
      "source": [
        "# String Length"
      ]
    },
    {
      "cell_type": "code",
      "execution_count": 5,
      "metadata": {
        "id": "4u2LVHzpN_oe"
      },
      "outputs": [
        {
          "data": {
            "text/plain": [
              "78"
            ]
          },
          "execution_count": 5,
          "metadata": {},
          "output_type": "execute_result"
        }
      ],
      "source": [
        "len(mystr)"
      ]
    },
    {
      "cell_type": "markdown",
      "metadata": {
        "id": "1OjLylzOORRK"
      },
      "source": [
        "# Check Sub-String Presence"
      ]
    },
    {
      "cell_type": "code",
      "execution_count": 6,
      "metadata": {
        "id": "CbrqGQIyOOhW"
      },
      "outputs": [
        {
          "name": "stdout",
          "output_type": "stream",
          "text": [
            "present\n"
          ]
        }
      ],
      "source": [
        "if \"student\" in mystr:\n",
        "  print(\"present\")\n",
        "else:\n",
        "  print(\"absent\")"
      ]
    },
    {
      "cell_type": "code",
      "execution_count": 7,
      "metadata": {
        "id": "77B1oFg5OWoi"
      },
      "outputs": [
        {
          "name": "stdout",
          "output_type": "stream",
          "text": [
            "absent\n"
          ]
        }
      ],
      "source": [
        "if \"Indore\" in mystr:\n",
        "  print(\"present\")\n",
        "else:\n",
        "  print(\"absent\")"
      ]
    },
    {
      "cell_type": "markdown",
      "metadata": {
        "id": "ML9wZ5HsOmtz"
      },
      "source": [
        "# Upper and Lower Case"
      ]
    },
    {
      "cell_type": "code",
      "execution_count": 8,
      "metadata": {
        "id": "1Z6WH-H2OY2Z"
      },
      "outputs": [
        {
          "name": "stdout",
          "output_type": "stream",
          "text": [
            "I AM A STUDENT OF SITARE.\n",
            "I LIVE IN LUCKNOW.\n",
            "I AM STUDYING PYTHON PROGRAMMING.\n",
            "\n",
            "\n",
            "I am a student of Sitare.\n",
            "I live in Lucknow.\n",
            "I am studying Python Programming.\n"
          ]
        }
      ],
      "source": [
        "print(mystr.upper())\n",
        "print(\"\\n\")\n",
        "print(mystr)"
      ]
    },
    {
      "cell_type": "code",
      "execution_count": 9,
      "metadata": {
        "id": "AXWmLiS7OwH3"
      },
      "outputs": [
        {
          "name": "stdout",
          "output_type": "stream",
          "text": [
            "i am a student of sitare.\n",
            "i live in lucknow.\n",
            "i am studying python programming.\n",
            "\n",
            "\n",
            "I am a student of Sitare.\n",
            "I live in Lucknow.\n",
            "I am studying Python Programming.\n"
          ]
        }
      ],
      "source": [
        "print(mystr.lower())\n",
        "print(\"\\n\")\n",
        "print(mystr)"
      ]
    },
    {
      "cell_type": "markdown",
      "metadata": {
        "id": "N7UZlvNOO4gE"
      },
      "source": [
        "# Remove Whitespace"
      ]
    },
    {
      "cell_type": "code",
      "execution_count": 10,
      "metadata": {
        "id": "txisgfXGO3hN"
      },
      "outputs": [
        {
          "name": "stdout",
          "output_type": "stream",
          "text": [
            "hello\n",
            "\n",
            "\n",
            " hello \n"
          ]
        }
      ],
      "source": [
        "text = \" hello \"\n",
        "print(text.strip())\n",
        "print(\"\\n\")\n",
        "print(text)"
      ]
    },
    {
      "cell_type": "markdown",
      "metadata": {
        "id": "32I9qCOePKrU"
      },
      "source": [
        "# Replace Substring"
      ]
    },
    {
      "cell_type": "code",
      "execution_count": 11,
      "metadata": {
        "id": "s0jYzkeiPBJL"
      },
      "outputs": [
        {
          "name": "stdout",
          "output_type": "stream",
          "text": [
            "I am a student of Sitare.\n",
            "I live in Lucknow.\n",
            "I am studying Java Programming.\n",
            "\n",
            "\n",
            "I am a student of Sitare.\n",
            "I live in Lucknow.\n",
            "I am studying Python Programming.\n"
          ]
        }
      ],
      "source": [
        "print(mystr.replace('Python', 'Java'))\n",
        "print(\"\\n\")\n",
        "print(mystr)"
      ]
    },
    {
      "cell_type": "code",
      "execution_count": 12,
      "metadata": {
        "id": "eZSW8WTDPZRK"
      },
      "outputs": [
        {
          "name": "stdout",
          "output_type": "stream",
          "text": [
            "I am a student of Sitare.\n",
            "I live in Lucknow.\n",
            "I am studying Python Programming.\n",
            "\n",
            "\n",
            "I am a student of Sitare.\n",
            "I live in Lucknow.\n",
            "I am studying Python Programming.\n"
          ]
        }
      ],
      "source": [
        "print(mystr.replace('Math', 'Java'))\n",
        "print(\"\\n\")\n",
        "print(mystr)"
      ]
    },
    {
      "cell_type": "markdown",
      "metadata": {
        "id": "sb-00SxpPhbF"
      },
      "source": [
        "# Split String"
      ]
    },
    {
      "cell_type": "code",
      "execution_count": 13,
      "metadata": {
        "id": "LZRO4fbWPdvS"
      },
      "outputs": [
        {
          "name": "stdout",
          "output_type": "stream",
          "text": [
            "['I', 'am', 'a', 'student', 'of', 'Sitare.', 'I', 'live', 'in', 'Lucknow.', 'I', 'am', 'studying', 'Python', 'Programming.']\n",
            "\n",
            "\n",
            "I am a student of Sitare.\n",
            "I live in Lucknow.\n",
            "I am studying Python Programming.\n"
          ]
        }
      ],
      "source": [
        "print(mystr.split())\n",
        "print(\"\\n\")\n",
        "print(mystr)"
      ]
    },
    {
      "cell_type": "markdown",
      "metadata": {
        "id": "OmoDyeW7Pnj1"
      },
      "source": [
        "# Join Function"
      ]
    },
    {
      "cell_type": "code",
      "execution_count": 14,
      "metadata": {
        "id": "24biKYs2Pk88"
      },
      "outputs": [
        {
          "name": "stdout",
          "output_type": "stream",
          "text": [
            "['I', 'am', 'a', 'student', 'of', 'Sitare.', 'I', 'live', 'in', 'Lucknow.', 'I', 'am', 'studying', 'Python', 'Programming.']\n",
            "\n",
            "\n",
            "I am a student of Sitare. I live in Lucknow. I am studying Python Programming.\n",
            "\n",
            "\n",
            "IamastudentofSitare.IliveinLucknow.IamstudyingPythonProgramming.\n",
            "\n",
            "\n",
            "I**am**a**student**of**Sitare.**I**live**in**Lucknow.**I**am**studying**Python**Programming.\n"
          ]
        }
      ],
      "source": [
        "mystr_list = mystr.split()\n",
        "print(mystr_list)\n",
        "print(\"\\n\")\n",
        "print(\" \".join(mystr_list))\n",
        "print(\"\\n\")\n",
        "print(\"\".join(mystr_list))\n",
        "print(\"\\n\")\n",
        "print(\"**\".join(mystr_list))"
      ]
    },
    {
      "cell_type": "markdown",
      "metadata": {
        "id": "ueaMrXITQBY5"
      },
      "source": [
        "# String Formatting"
      ]
    },
    {
      "cell_type": "code",
      "execution_count": 15,
      "metadata": {
        "id": "E49DQi3cPyiB"
      },
      "outputs": [
        {
          "name": "stdout",
          "output_type": "stream",
          "text": [
            "I want 3 pieces of item 567 for 49.95 dollars.\n"
          ]
        }
      ],
      "source": [
        "quantity = 3\n",
        "itemno = 567\n",
        "price = 49.95\n",
        "myorder = \"I want {} pieces of item {} for {} dollars.\"\n",
        "print(myorder.format(quantity, itemno, price))"
      ]
    },
    {
      "cell_type": "code",
      "execution_count": 16,
      "metadata": {
        "id": "8bSCEbPKQNkp"
      },
      "outputs": [
        {
          "name": "stdout",
          "output_type": "stream",
          "text": [
            "I want to pay 49.95 dollars for 3 pieces of item 567.\n"
          ]
        }
      ],
      "source": [
        "quantity = 3\n",
        "itemno = 567\n",
        "price = 49.95\n",
        "myorder = \"I want to pay {2} dollars for {0} pieces of item {1}.\"\n",
        "print(myorder.format(quantity, itemno, price))"
      ]
    },
    {
      "cell_type": "code",
      "execution_count": null,
      "metadata": {
        "id": "GkJGmgEJQRG7"
      },
      "outputs": [],
      "source": [
        "# Escape Characters : https://www.w3schools.com/python/python_strings_escape.asp\n",
        "# String Methods : https://www.w3schools.com/python/python_strings_methods.asp"
      ]
    },
    {
      "cell_type": "markdown",
      "metadata": {
        "id": "5fzD_t-6Qh7m"
      },
      "source": [
        "**String Exercises**\n",
        "\n",
        "1. Write a python function that takes a string as input, and returns the string in reverse order.\n",
        "\n",
        "2. Write a python function that takes a string as input, and returns the number of vowels in it.\n",
        "\n",
        "3. Write a python function that takes a string as input, and returns the string with the first letter of each word capitalised.\n",
        "\n",
        "4. Write a python function that takes a string as input, and returns the number of words in it. Use space as a separator for words.\n",
        "\n",
        "5. Write a python function that takes a string as input, and returns the length of the longest word in it. Use space as a separator for words.\n",
        "\n",
        "6. Write a python function that takes a string as input, and returns if its a valid email address.\n",
        "\n",
        "7. Write a python function that takes a string as input, and returns if its a valid mobile number in India.\n",
        "\n",
        "8. Implement a simple encryption algorithm that can encrypt and decrypt strings.\n",
        "\n",
        "9. Write a python function that takes in a string and checks if its a palindrome.\n",
        "\n",
        "10. Write a python function that takes two strings as input, and checks if they are the same string or not. If they are not the same string, it should also output the number of characters in which they differ from each other.\n",
        "\n",
        "11. Write a python function that takes in a paragraph as input, and returns a list of sentences. Use full-stop, exclamation and question mark as the three allowed delimiters between sentences."
      ]
    },
    {
      "cell_type": "code",
      "execution_count": 2,
      "metadata": {
        "id": "gthAX7RbQi5i"
      },
      "outputs": [
        {
          "name": "stdout",
          "output_type": "stream",
          "text": [
            "ram is a good boy\n"
          ]
        }
      ],
      "source": [
        "mystr_1= '''ram is a good boy'''\n",
        "print(mystr_1)\n",
        "revers_1=''''''\n",
        "    \n"
      ]
    },
    {
      "cell_type": "code",
      "execution_count": 3,
      "metadata": {},
      "outputs": [
        {
          "data": {
            "text/plain": [
              "'yob doog a si mar'"
            ]
          },
          "execution_count": 3,
          "metadata": {},
          "output_type": "execute_result"
        }
      ],
      "source": [
        "def revers_2(n):\n",
        "    global revers_1\n",
        "    a= len(n)\n",
        "    for i in range(a):\n",
        "        revers_1+=n[(a-1)-i]\n",
        "    return revers_1\n",
        "revers_2(mystr_1)"
      ]
    },
    {
      "cell_type": "code",
      "execution_count": 4,
      "metadata": {},
      "outputs": [
        {
          "data": {
            "text/plain": [
              "'aiaooo'"
            ]
          },
          "execution_count": 4,
          "metadata": {},
          "output_type": "execute_result"
        }
      ],
      "source": [
        "revers_3=''''''\n",
        "def func_vow(n):\n",
        "    vowles='''a,e,i,o,u'''\n",
        "    global revers_3\n",
        "    for i in n:\n",
        "        if i in vowles:\n",
        "            revers_3+=i\n",
        "    return revers_3\n",
        "\n",
        "func_vow(mystr_1)"
      ]
    },
    {
      "cell_type": "code",
      "execution_count": 13,
      "metadata": {},
      "outputs": [
        {
          "data": {
            "text/plain": [
              "'Vinod And BhupendrA Jogi'"
            ]
          },
          "execution_count": 13,
          "metadata": {},
          "output_type": "execute_result"
        }
      ],
      "source": [
        "my_1='''vinod and bhupendra jogi'''\n",
        "def func_space(n):\n",
        "    a=\" \"\n",
        "    for i in range(len(n)):\n",
        "        b=n[i]\n",
        "        if b in a:\n",
        "            c=(n[i+1].upper())\n",
        "            n=n.replace(n[i+1],c)\n",
        "        if i==0:\n",
        "            c=(n[i].upper())\n",
        "            n=n.replace(n[i],c)\n",
        "    return n\n",
        "func_space(my_1)"
      ]
    },
    {
      "cell_type": "code",
      "execution_count": 15,
      "metadata": {},
      "outputs": [
        {
          "data": {
            "text/plain": [
              "3"
            ]
          },
          "execution_count": 15,
          "metadata": {},
          "output_type": "execute_result"
        }
      ],
      "source": [
        "c=0\n",
        "def func_count(n):\n",
        "    global c\n",
        "    a=\" \"\n",
        "    for i in range(len(n)):\n",
        "        b=n[i]\n",
        "        if b in a:\n",
        "            c+=1\n",
        "    return c\n",
        "func_count(my_1)"
      ]
    },
    {
      "cell_type": "code",
      "execution_count": null,
      "metadata": {},
      "outputs": [],
      "source": []
    }
  ],
  "metadata": {
    "colab": {
      "provenance": []
    },
    "kernelspec": {
      "display_name": "Python 3",
      "name": "python3"
    },
    "language_info": {
      "codemirror_mode": {
        "name": "ipython",
        "version": 3
      },
      "file_extension": ".py",
      "mimetype": "text/x-python",
      "name": "python",
      "nbconvert_exporter": "python",
      "pygments_lexer": "ipython3",
      "version": "3.11.5"
    }
  },
  "nbformat": 4,
  "nbformat_minor": 0
}
